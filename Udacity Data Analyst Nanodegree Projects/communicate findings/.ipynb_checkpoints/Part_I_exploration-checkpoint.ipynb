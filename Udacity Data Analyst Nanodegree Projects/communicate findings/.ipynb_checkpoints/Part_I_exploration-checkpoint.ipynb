{
 "cells": [
  {
   "cell_type": "markdown",
   "id": "985ab376",
   "metadata": {},
   "source": [
    "# Personal Key Indicators of Heart Disease Data Exploration\n",
    "\n",
    "## Prelininary Wrangling\n",
    "\n",
    "This document explores a dataset containing personal key indicators of heart diseases for approximately 319,800 samples"
   ]
  },
  {
   "cell_type": "code",
   "execution_count": 134,
   "id": "26fa4162",
   "metadata": {},
   "outputs": [],
   "source": [
    "# import all packages and set plots to be embedded inline\n",
    "\n",
    "import numpy as np\n",
    "\n",
    "import pandas as pd\n",
    "\n",
    "import matplotlib.pyplot as plt\n",
    "\n",
    "import seaborn as sb\n",
    "\n",
    "import seaborn as sns\n",
    "\n",
    "%matplotlib inline"
   ]
  },
  {
   "cell_type": "code",
   "execution_count": 135,
   "id": "57b505ae",
   "metadata": {},
   "outputs": [],
   "source": [
    "#load the dataset into a pandas dataframe\n",
    "\n",
    "df = pd.read_csv('heart_2020_cleaned.csv')"
   ]
  },
  {
   "cell_type": "code",
   "execution_count": 136,
   "id": "f03f46c2",
   "metadata": {},
   "outputs": [
    {
     "data": {
      "text/html": [
       "<div>\n",
       "<style scoped>\n",
       "    .dataframe tbody tr th:only-of-type {\n",
       "        vertical-align: middle;\n",
       "    }\n",
       "\n",
       "    .dataframe tbody tr th {\n",
       "        vertical-align: top;\n",
       "    }\n",
       "\n",
       "    .dataframe thead th {\n",
       "        text-align: right;\n",
       "    }\n",
       "</style>\n",
       "<table border=\"1\" class=\"dataframe\">\n",
       "  <thead>\n",
       "    <tr style=\"text-align: right;\">\n",
       "      <th></th>\n",
       "      <th>HeartDisease</th>\n",
       "      <th>BMI</th>\n",
       "      <th>Smoking</th>\n",
       "      <th>AlcoholDrinking</th>\n",
       "      <th>Stroke</th>\n",
       "      <th>PhysicalHealth</th>\n",
       "      <th>MentalHealth</th>\n",
       "      <th>DiffWalking</th>\n",
       "      <th>Sex</th>\n",
       "      <th>AgeCategory</th>\n",
       "      <th>Race</th>\n",
       "      <th>Diabetic</th>\n",
       "      <th>PhysicalActivity</th>\n",
       "      <th>GenHealth</th>\n",
       "      <th>SleepTime</th>\n",
       "      <th>Asthma</th>\n",
       "      <th>KidneyDisease</th>\n",
       "      <th>SkinCancer</th>\n",
       "    </tr>\n",
       "  </thead>\n",
       "  <tbody>\n",
       "    <tr>\n",
       "      <th>0</th>\n",
       "      <td>No</td>\n",
       "      <td>16.60</td>\n",
       "      <td>Yes</td>\n",
       "      <td>No</td>\n",
       "      <td>No</td>\n",
       "      <td>3.0</td>\n",
       "      <td>30.0</td>\n",
       "      <td>No</td>\n",
       "      <td>Female</td>\n",
       "      <td>55-59</td>\n",
       "      <td>White</td>\n",
       "      <td>Yes</td>\n",
       "      <td>Yes</td>\n",
       "      <td>Very good</td>\n",
       "      <td>5.0</td>\n",
       "      <td>Yes</td>\n",
       "      <td>No</td>\n",
       "      <td>Yes</td>\n",
       "    </tr>\n",
       "    <tr>\n",
       "      <th>1</th>\n",
       "      <td>No</td>\n",
       "      <td>20.34</td>\n",
       "      <td>No</td>\n",
       "      <td>No</td>\n",
       "      <td>Yes</td>\n",
       "      <td>0.0</td>\n",
       "      <td>0.0</td>\n",
       "      <td>No</td>\n",
       "      <td>Female</td>\n",
       "      <td>80 or older</td>\n",
       "      <td>White</td>\n",
       "      <td>No</td>\n",
       "      <td>Yes</td>\n",
       "      <td>Very good</td>\n",
       "      <td>7.0</td>\n",
       "      <td>No</td>\n",
       "      <td>No</td>\n",
       "      <td>No</td>\n",
       "    </tr>\n",
       "    <tr>\n",
       "      <th>2</th>\n",
       "      <td>No</td>\n",
       "      <td>26.58</td>\n",
       "      <td>Yes</td>\n",
       "      <td>No</td>\n",
       "      <td>No</td>\n",
       "      <td>20.0</td>\n",
       "      <td>30.0</td>\n",
       "      <td>No</td>\n",
       "      <td>Male</td>\n",
       "      <td>65-69</td>\n",
       "      <td>White</td>\n",
       "      <td>Yes</td>\n",
       "      <td>Yes</td>\n",
       "      <td>Fair</td>\n",
       "      <td>8.0</td>\n",
       "      <td>Yes</td>\n",
       "      <td>No</td>\n",
       "      <td>No</td>\n",
       "    </tr>\n",
       "    <tr>\n",
       "      <th>3</th>\n",
       "      <td>No</td>\n",
       "      <td>24.21</td>\n",
       "      <td>No</td>\n",
       "      <td>No</td>\n",
       "      <td>No</td>\n",
       "      <td>0.0</td>\n",
       "      <td>0.0</td>\n",
       "      <td>No</td>\n",
       "      <td>Female</td>\n",
       "      <td>75-79</td>\n",
       "      <td>White</td>\n",
       "      <td>No</td>\n",
       "      <td>No</td>\n",
       "      <td>Good</td>\n",
       "      <td>6.0</td>\n",
       "      <td>No</td>\n",
       "      <td>No</td>\n",
       "      <td>Yes</td>\n",
       "    </tr>\n",
       "    <tr>\n",
       "      <th>4</th>\n",
       "      <td>No</td>\n",
       "      <td>23.71</td>\n",
       "      <td>No</td>\n",
       "      <td>No</td>\n",
       "      <td>No</td>\n",
       "      <td>28.0</td>\n",
       "      <td>0.0</td>\n",
       "      <td>Yes</td>\n",
       "      <td>Female</td>\n",
       "      <td>40-44</td>\n",
       "      <td>White</td>\n",
       "      <td>No</td>\n",
       "      <td>Yes</td>\n",
       "      <td>Very good</td>\n",
       "      <td>8.0</td>\n",
       "      <td>No</td>\n",
       "      <td>No</td>\n",
       "      <td>No</td>\n",
       "    </tr>\n",
       "  </tbody>\n",
       "</table>\n",
       "</div>"
      ],
      "text/plain": [
       "  HeartDisease    BMI Smoking AlcoholDrinking Stroke  PhysicalHealth  \\\n",
       "0           No  16.60     Yes              No     No             3.0   \n",
       "1           No  20.34      No              No    Yes             0.0   \n",
       "2           No  26.58     Yes              No     No            20.0   \n",
       "3           No  24.21      No              No     No             0.0   \n",
       "4           No  23.71      No              No     No            28.0   \n",
       "\n",
       "   MentalHealth DiffWalking     Sex  AgeCategory   Race Diabetic  \\\n",
       "0          30.0          No  Female        55-59  White      Yes   \n",
       "1           0.0          No  Female  80 or older  White       No   \n",
       "2          30.0          No    Male        65-69  White      Yes   \n",
       "3           0.0          No  Female        75-79  White       No   \n",
       "4           0.0         Yes  Female        40-44  White       No   \n",
       "\n",
       "  PhysicalActivity  GenHealth  SleepTime Asthma KidneyDisease SkinCancer  \n",
       "0              Yes  Very good        5.0    Yes            No        Yes  \n",
       "1              Yes  Very good        7.0     No            No         No  \n",
       "2              Yes       Fair        8.0    Yes            No         No  \n",
       "3               No       Good        6.0     No            No        Yes  \n",
       "4              Yes  Very good        8.0     No            No         No  "
      ]
     },
     "execution_count": 136,
     "metadata": {},
     "output_type": "execute_result"
    }
   ],
   "source": [
    "df.head()"
   ]
  },
  {
   "cell_type": "code",
   "execution_count": 137,
   "id": "f26cfb7e",
   "metadata": {},
   "outputs": [
    {
     "data": {
      "text/plain": [
       "(319795, 18)"
      ]
     },
     "execution_count": 137,
     "metadata": {},
     "output_type": "execute_result"
    }
   ],
   "source": [
    "df.shape"
   ]
  },
  {
   "cell_type": "code",
   "execution_count": 138,
   "id": "c7318523",
   "metadata": {},
   "outputs": [
    {
     "name": "stdout",
     "output_type": "stream",
     "text": [
      "<class 'pandas.core.frame.DataFrame'>\n",
      "RangeIndex: 319795 entries, 0 to 319794\n",
      "Data columns (total 18 columns):\n",
      " #   Column            Non-Null Count   Dtype  \n",
      "---  ------            --------------   -----  \n",
      " 0   HeartDisease      319795 non-null  object \n",
      " 1   BMI               319795 non-null  float64\n",
      " 2   Smoking           319795 non-null  object \n",
      " 3   AlcoholDrinking   319795 non-null  object \n",
      " 4   Stroke            319795 non-null  object \n",
      " 5   PhysicalHealth    319795 non-null  float64\n",
      " 6   MentalHealth      319795 non-null  float64\n",
      " 7   DiffWalking       319795 non-null  object \n",
      " 8   Sex               319795 non-null  object \n",
      " 9   AgeCategory       319795 non-null  object \n",
      " 10  Race              319795 non-null  object \n",
      " 11  Diabetic          319795 non-null  object \n",
      " 12  PhysicalActivity  319795 non-null  object \n",
      " 13  GenHealth         319795 non-null  object \n",
      " 14  SleepTime         319795 non-null  float64\n",
      " 15  Asthma            319795 non-null  object \n",
      " 16  KidneyDisease     319795 non-null  object \n",
      " 17  SkinCancer        319795 non-null  object \n",
      "dtypes: float64(4), object(14)\n",
      "memory usage: 43.9+ MB\n"
     ]
    }
   ],
   "source": [
    "df.info()"
   ]
  },
  {
   "cell_type": "code",
   "execution_count": 139,
   "id": "7906e4db",
   "metadata": {},
   "outputs": [
    {
     "data": {
      "text/html": [
       "<div>\n",
       "<style scoped>\n",
       "    .dataframe tbody tr th:only-of-type {\n",
       "        vertical-align: middle;\n",
       "    }\n",
       "\n",
       "    .dataframe tbody tr th {\n",
       "        vertical-align: top;\n",
       "    }\n",
       "\n",
       "    .dataframe thead th {\n",
       "        text-align: right;\n",
       "    }\n",
       "</style>\n",
       "<table border=\"1\" class=\"dataframe\">\n",
       "  <thead>\n",
       "    <tr style=\"text-align: right;\">\n",
       "      <th></th>\n",
       "      <th>BMI</th>\n",
       "      <th>PhysicalHealth</th>\n",
       "      <th>MentalHealth</th>\n",
       "      <th>SleepTime</th>\n",
       "    </tr>\n",
       "  </thead>\n",
       "  <tbody>\n",
       "    <tr>\n",
       "      <th>count</th>\n",
       "      <td>319795.000000</td>\n",
       "      <td>319795.00000</td>\n",
       "      <td>319795.000000</td>\n",
       "      <td>319795.000000</td>\n",
       "    </tr>\n",
       "    <tr>\n",
       "      <th>mean</th>\n",
       "      <td>28.325399</td>\n",
       "      <td>3.37171</td>\n",
       "      <td>3.898366</td>\n",
       "      <td>7.097075</td>\n",
       "    </tr>\n",
       "    <tr>\n",
       "      <th>std</th>\n",
       "      <td>6.356100</td>\n",
       "      <td>7.95085</td>\n",
       "      <td>7.955235</td>\n",
       "      <td>1.436007</td>\n",
       "    </tr>\n",
       "    <tr>\n",
       "      <th>min</th>\n",
       "      <td>12.020000</td>\n",
       "      <td>0.00000</td>\n",
       "      <td>0.000000</td>\n",
       "      <td>1.000000</td>\n",
       "    </tr>\n",
       "    <tr>\n",
       "      <th>25%</th>\n",
       "      <td>24.030000</td>\n",
       "      <td>0.00000</td>\n",
       "      <td>0.000000</td>\n",
       "      <td>6.000000</td>\n",
       "    </tr>\n",
       "    <tr>\n",
       "      <th>50%</th>\n",
       "      <td>27.340000</td>\n",
       "      <td>0.00000</td>\n",
       "      <td>0.000000</td>\n",
       "      <td>7.000000</td>\n",
       "    </tr>\n",
       "    <tr>\n",
       "      <th>75%</th>\n",
       "      <td>31.420000</td>\n",
       "      <td>2.00000</td>\n",
       "      <td>3.000000</td>\n",
       "      <td>8.000000</td>\n",
       "    </tr>\n",
       "    <tr>\n",
       "      <th>max</th>\n",
       "      <td>94.850000</td>\n",
       "      <td>30.00000</td>\n",
       "      <td>30.000000</td>\n",
       "      <td>24.000000</td>\n",
       "    </tr>\n",
       "  </tbody>\n",
       "</table>\n",
       "</div>"
      ],
      "text/plain": [
       "                 BMI  PhysicalHealth   MentalHealth      SleepTime\n",
       "count  319795.000000    319795.00000  319795.000000  319795.000000\n",
       "mean       28.325399         3.37171       3.898366       7.097075\n",
       "std         6.356100         7.95085       7.955235       1.436007\n",
       "min        12.020000         0.00000       0.000000       1.000000\n",
       "25%        24.030000         0.00000       0.000000       6.000000\n",
       "50%        27.340000         0.00000       0.000000       7.000000\n",
       "75%        31.420000         2.00000       3.000000       8.000000\n",
       "max        94.850000        30.00000      30.000000      24.000000"
      ]
     },
     "execution_count": 139,
     "metadata": {},
     "output_type": "execute_result"
    }
   ],
   "source": [
    "df.describe()"
   ]
  },
  {
   "cell_type": "code",
   "execution_count": 141,
   "id": "9cf41d40",
   "metadata": {},
   "outputs": [],
   "source": [
    "#Classify BMI feature into a group (BMI group which is an ordinal variable)\n",
    "\n",
    "bmi_group_figures = [0, 18.5, 25, 30, 95]\n",
    "\n",
    "bmi_group_names = ['underweight', 'healthy weight','Overweight','Obesity']\n",
    "\n",
    "df['BMI group'] = pd.cut(df['BMI'], bmi_group_figures, labels = bmi_group_names)"
   ]
  },
  {
   "cell_type": "markdown",
   "id": "7c42d0a5",
   "metadata": {},
   "source": [
    "### What is the structure of your dataset?"
   ]
  },
  {
   "cell_type": "markdown",
   "id": "72c08f82",
   "metadata": {},
   "source": [
    "There are 319,795 reponses from the adult interviews with 18 features. Most features are dichotomous categorical feature but BMI, Physical Health, Mental Health and Sleep Time are numeric while GenHealth is an ordinal categorical feature."
   ]
  },
  {
   "cell_type": "markdown",
   "id": "5b332b6d",
   "metadata": {},
   "source": [
    "### What is/are the main feature(s) of interest in your dataset?\n",
    "\n"
   ]
  },
  {
   "cell_type": "markdown",
   "id": "2ce48781",
   "metadata": {},
   "source": [
    "I am most interested in figuring out feature(s) which best determine the outcome of the Heart Diesease in the dataset"
   ]
  },
  {
   "cell_type": "markdown",
   "id": "dcc71bc0",
   "metadata": {},
   "source": [
    "### What features in the dataset do you think will help support your investigation into your feature(s) of interest?"
   ]
  },
  {
   "cell_type": "markdown",
   "id": "6855fa11",
   "metadata": {},
   "source": [
    "I have no idea. I will have to figure out by exploring most of the features in the dataset"
   ]
  },
  {
   "cell_type": "markdown",
   "id": "0c0e9474",
   "metadata": {},
   "source": [
    "## Univariate Exploration"
   ]
  },
  {
   "cell_type": "markdown",
   "id": "7c245cf1",
   "metadata": {},
   "source": [
    "I start by looking at the distribution of the main feature of interest: Heart Disease and followed by different features"
   ]
  },
  {
   "cell_type": "code",
   "execution_count": 142,
   "id": "cd7abdae",
   "metadata": {},
   "outputs": [
    {
     "data": {
      "image/png": "[encoded data removed]",
      "text/plain": [
       "<Figure size 432x288 with 1 Axes>"
      ]
     },
     "metadata": {
      "needs_background": "light"
     },
     "output_type": "display_data"
    }
   ],
   "source": [
    "base_color = sb.color_palette()[0]\n",
    "\n",
    "sb.countplot(data=df, x='HeartDisease', color=base_color);"
   ]
  },
  {
   "cell_type": "markdown",
   "id": "a8ea79a1",
   "metadata": {},
   "source": [
    " 292422 respondents reported having no heart disease while 27373 reported having heart disease"
   ]
  },
  {
   "cell_type": "code",
   "execution_count": 143,
   "id": "dcaa7174",
   "metadata": {},
   "outputs": [],
   "source": [
    "#Smoking"
   ]
  },
  {
   "cell_type": "code",
   "execution_count": 144,
   "id": "f1386fdb",
   "metadata": {},
   "outputs": [
    {
     "data": {
      "image/png": "[encoded data removed]",
      "text/plain": [
       "<Figure size 432x288 with 1 Axes>"
      ]
     },
     "metadata": {
      "needs_background": "light"
     },
     "output_type": "display_data"
    }
   ],
   "source": [
    "base_color = sb.color_palette()[0]\n",
    "\n",
    "sb.countplot(data=df, x='Smoking', color=base_color);"
   ]
  },
  {
   "cell_type": "markdown",
   "id": "259f23de",
   "metadata": {},
   "source": [
    "187,887 respondents don't smoke while 131,908 smoke"
   ]
  },
  {
   "cell_type": "code",
   "execution_count": 145,
   "id": "09451e3e",
   "metadata": {},
   "outputs": [],
   "source": [
    "#Alcohol"
   ]
  },
  {
   "cell_type": "code",
   "execution_count": 146,
   "id": "7128c5e1",
   "metadata": {},
   "outputs": [
    {
     "data": {
      "image/png": "[encoded data removed]",
      "text/plain": [
       "<Figure size 432x288 with 1 Axes>"
      ]
     },
     "metadata": {
      "needs_background": "light"
     },
     "output_type": "display_data"
    }
   ],
   "source": [
    "base_color = sb.color_palette()[0]\n",
    "\n",
    "sb.countplot(data=df, x='AlcoholDrinking', color=base_color);"
   ]
  },
  {
   "cell_type": "markdown",
   "id": "a7f8f68a",
   "metadata": {},
   "source": [
    "298,018 respondents doesn't drink Alcohol while 21,777 drink Alchol. The distribution is quite similar to the Heart Disease distribution. So it will be worth checking for the relationship"
   ]
  },
  {
   "cell_type": "code",
   "execution_count": 147,
   "id": "6b1f2f47",
   "metadata": {},
   "outputs": [],
   "source": [
    "#Stroke"
   ]
  },
  {
   "cell_type": "code",
   "execution_count": 148,
   "id": "6701a6f3",
   "metadata": {},
   "outputs": [
    {
     "data": {
      "image/png": "[encoded data removed]",
      "text/plain": [
       "<Figure size 432x288 with 1 Axes>"
      ]
     },
     "metadata": {
      "needs_background": "light"
     },
     "output_type": "display_data"
    }
   ],
   "source": [
    "base_color = sb.color_palette()[0]\n",
    "\n",
    "sb.countplot(data=df, x='Stroke', color=base_color);"
   ]
  },
  {
   "cell_type": "markdown",
   "id": "1ac6118c",
   "metadata": {},
   "source": [
    "307,726 respondents don't have stroke while 12,069 have stroke. The distribution is quite similar to the Heart Disease distribution. So it will be worth checking for the relationship"
   ]
  },
  {
   "cell_type": "code",
   "execution_count": 149,
   "id": "506c1d51",
   "metadata": {},
   "outputs": [],
   "source": [
    "#Physical Health"
   ]
  },
  {
   "cell_type": "code",
   "execution_count": 150,
   "id": "2f164e5d",
   "metadata": {},
   "outputs": [
    {
     "data": {
      "image/png": "[encoded data removed]",
      "text/plain": [
       "<Figure size 432x288 with 1 Axes>"
      ]
     },
     "metadata": {
      "needs_background": "light"
     },
     "output_type": "display_data"
    }
   ],
   "source": [
    "bins=np.arange(-0.5, df['PhysicalHealth'].max()+1, 1)\n",
    "\n",
    "plt.hist(data=df, x='PhysicalHealth', bins = bins);"
   ]
  },
  {
   "cell_type": "markdown",
   "id": "e4ce4a7b",
   "metadata": {},
   "source": [
    "distribution is right skewed with most respondends having no physical illness and injury in the past 30 days "
   ]
  },
  {
   "cell_type": "code",
   "execution_count": 151,
   "id": "35c6b5d1",
   "metadata": {},
   "outputs": [],
   "source": [
    "#Mental Health"
   ]
  },
  {
   "cell_type": "code",
   "execution_count": 152,
   "id": "3810aae9",
   "metadata": {},
   "outputs": [
    {
     "data": {
      "image/png": "[encoded data removed]",
      "text/plain": [
       "<Figure size 432x288 with 1 Axes>"
      ]
     },
     "metadata": {
      "needs_background": "light"
     },
     "output_type": "display_data"
    }
   ],
   "source": [
    "bins=np.arange(-0.5, df['MentalHealth'].max()+1, 1)\n",
    "\n",
    "plt.hist(data=df, x='MentalHealth', bins = bins);"
   ]
  },
  {
   "cell_type": "markdown",
   "id": "4d361cf1",
   "metadata": {},
   "source": [
    "distribution is right skewed and similar to that of the distribution of physical health with most respondends having no mental illness and injury in the past 30 days "
   ]
  },
  {
   "cell_type": "code",
   "execution_count": 153,
   "id": "db7fa9f6",
   "metadata": {},
   "outputs": [],
   "source": [
    "#General Health"
   ]
  },
  {
   "cell_type": "code",
   "execution_count": 154,
   "id": "eadd5d7f",
   "metadata": {},
   "outputs": [
    {
     "data": {
      "image/png": "[encoded data removed]",
      "text/plain": [
       "<Figure size 432x288 with 1 Axes>"
      ]
     },
     "metadata": {
      "needs_background": "light"
     },
     "output_type": "display_data"
    }
   ],
   "source": [
    "base_color = sb.color_palette()[0]\n",
    "\n",
    "sb.countplot(data=df, x='GenHealth', color=base_color);"
   ]
  },
  {
   "cell_type": "markdown",
   "id": "322e1f98",
   "metadata": {},
   "source": [
    "Most of the respondents are in very good, excellent and good general health category "
   ]
  },
  {
   "cell_type": "code",
   "execution_count": 155,
   "id": "28d419ed",
   "metadata": {},
   "outputs": [],
   "source": [
    "#SleepTime"
   ]
  },
  {
   "cell_type": "code",
   "execution_count": 156,
   "id": "5e234547",
   "metadata": {},
   "outputs": [
    {
     "data": {
      "image/png": "[encoded data removed]",
      "text/plain": [
       "<Figure size 432x288 with 1 Axes>"
      ]
     },
     "metadata": {
      "needs_background": "light"
     },
     "output_type": "display_data"
    }
   ],
   "source": [
    "bins=np.arange(-0.5, df['SleepTime'].max()+1, 1)\n",
    "\n",
    "plt.hist(data=df, x='SleepTime', bins = bins);"
   ]
  },
  {
   "cell_type": "markdown",
   "id": "e1dc38c9",
   "metadata": {},
   "source": [
    "distributions is quite a normal distribution with most respondents sleeping for 7 or 8 hours everyday"
   ]
  },
  {
   "cell_type": "code",
   "execution_count": 157,
   "id": "6894ecf4",
   "metadata": {},
   "outputs": [],
   "source": [
    "#BMI group"
   ]
  },
  {
   "cell_type": "code",
   "execution_count": 158,
   "id": "2b3a14a8",
   "metadata": {},
   "outputs": [
    {
     "data": {
      "image/png": "[encoded data removed]",
      "text/plain": [
       "<Figure size 432x288 with 1 Axes>"
      ]
     },
     "metadata": {
      "needs_background": "light"
     },
     "output_type": "display_data"
    }
   ],
   "source": [
    "base_color = sb.color_palette()[0]\n",
    "\n",
    "sb.countplot(data=df, x='BMI group', color=base_color);"
   ]
  },
  {
   "cell_type": "code",
   "execution_count": 159,
   "id": "113ef437",
   "metadata": {},
   "outputs": [],
   "source": [
    "#Stroke"
   ]
  },
  {
   "cell_type": "code",
   "execution_count": 160,
   "id": "fa565bf5",
   "metadata": {},
   "outputs": [
    {
     "data": {
      "image/png": "[encoded data removed]",
      "text/plain": [
       "<Figure size 432x288 with 1 Axes>"
      ]
     },
     "metadata": {
      "needs_background": "light"
     },
     "output_type": "display_data"
    }
   ],
   "source": [
    "base_color = sb.color_palette()[0]\n",
    "\n",
    "sb.countplot(data=df, x='Stroke', color=base_color);"
   ]
  },
  {
   "cell_type": "markdown",
   "id": "8d681265",
   "metadata": {},
   "source": [
    "12069 respondents have stroke while 307726 don't"
   ]
  },
  {
   "cell_type": "markdown",
   "id": "227d3a62",
   "metadata": {},
   "source": [
    "## Bivariate Exploration"
   ]
  },
  {
   "cell_type": "markdown",
   "id": "261f5863",
   "metadata": {},
   "source": [
    "In the bivariate exploration, I am trying to look at the relationship between various features and the feature of interest: Heart Disease"
   ]
  },
  {
   "cell_type": "code",
   "execution_count": 161,
   "id": "1213b253",
   "metadata": {},
   "outputs": [],
   "source": [
    "#check the relaionship between heart disease and Alcohol drinking"
   ]
  },
  {
   "cell_type": "code",
   "execution_count": 162,
   "id": "e56a2927",
   "metadata": {},
   "outputs": [
    {
     "data": {
      "image/png": "[encoded data removed]",
      "text/plain": [
       "<Figure size 432x288 with 1 Axes>"
      ]
     },
     "metadata": {
      "needs_background": "light"
     },
     "output_type": "display_data"
    }
   ],
   "source": [
    "sb.countplot(data=df,x='AlcoholDrinking',hue='HeartDisease');"
   ]
  },
  {
   "cell_type": "markdown",
   "id": "69e64af2",
   "metadata": {},
   "source": [
    "from the plot, there isn't a clear deduction that alcohol drinkers tend to heart diseases than non-alcohol drinks as the proportion of respondents with heart disease is similar for both alcohol and non alcohol drinkers."
   ]
  },
  {
   "cell_type": "code",
   "execution_count": 163,
   "id": "c37baf16",
   "metadata": {},
   "outputs": [],
   "source": [
    "#heart disease and Smoking"
   ]
  },
  {
   "cell_type": "code",
   "execution_count": 164,
   "id": "093102cf",
   "metadata": {},
   "outputs": [
    {
     "data": {
      "image/png": "[encoded data removed]",
      "text/plain": [
       "<Figure size 432x288 with 1 Axes>"
      ]
     },
     "metadata": {
      "needs_background": "light"
     },
     "output_type": "display_data"
    }
   ],
   "source": [
    "sb.countplot(data=df,x='Smoking',hue='HeartDisease');"
   ]
  },
  {
   "cell_type": "markdown",
   "id": "1108d163",
   "metadata": {},
   "source": [
    "from the plot, proportion of respondents with heart disease that smokes is circa twice that of those with heart disease that doesn't smoke"
   ]
  },
  {
   "cell_type": "code",
   "execution_count": 165,
   "id": "8d288271",
   "metadata": {},
   "outputs": [],
   "source": [
    "#heart disease and stroke"
   ]
  },
  {
   "cell_type": "code",
   "execution_count": 166,
   "id": "465201e7",
   "metadata": {},
   "outputs": [
    {
     "data": {
      "image/png": "[encoded data removed]",
      "text/plain": [
       "<Figure size 432x288 with 1 Axes>"
      ]
     },
     "metadata": {
      "needs_background": "light"
     },
     "output_type": "display_data"
    }
   ],
   "source": [
    "sb.countplot(data=df,x='Stroke',hue='HeartDisease');"
   ]
  },
  {
   "cell_type": "markdown",
   "id": "9410ad95",
   "metadata": {},
   "source": [
    "from the plot, around 36% of respondents who stroke have heart disease compared to 7% among respondents who don't "
   ]
  },
  {
   "cell_type": "code",
   "execution_count": 167,
   "id": "acfc6233",
   "metadata": {},
   "outputs": [],
   "source": [
    "#heart disease and physical health"
   ]
  },
  {
   "cell_type": "code",
   "execution_count": 168,
   "id": "f73edbc3",
   "metadata": {},
   "outputs": [
    {
     "data": {
      "image/png": "[encoded data removed]",
      "text/plain": [
       "<Figure size 432x288 with 1 Axes>"
      ]
     },
     "metadata": {
      "needs_background": "light"
     },
     "output_type": "display_data"
    }
   ],
   "source": [
    "plt.scatter(data = df.sample(50000), x = 'HeartDisease', y = 'PhysicalHealth', alpha=1/20);"
   ]
  },
  {
   "cell_type": "markdown",
   "id": "7b3728ed",
   "metadata": {},
   "source": [
    "from the plot, there is no clear relationship between Heart Disease and Physical Health of the respondents"
   ]
  },
  {
   "cell_type": "code",
   "execution_count": 169,
   "id": "a49b9656",
   "metadata": {},
   "outputs": [],
   "source": [
    "#heart disease and mental health"
   ]
  },
  {
   "cell_type": "code",
   "execution_count": 170,
   "id": "1c59efb0",
   "metadata": {},
   "outputs": [
    {
     "data": {
      "image/png": "[encoded data removed]",
      "text/plain": [
       "<Figure size 432x288 with 1 Axes>"
      ]
     },
     "metadata": {
      "needs_background": "light"
     },
     "output_type": "display_data"
    }
   ],
   "source": [
    "plt.scatter(data = df.sample(50000), x = 'HeartDisease', y = 'MentalHealth', alpha=1/20);"
   ]
  },
  {
   "cell_type": "markdown",
   "id": "6836a3ed",
   "metadata": {},
   "source": [
    "from the plot, there is no clear relationship between Heart Disease and Mental Health of the respondents"
   ]
  },
  {
   "cell_type": "markdown",
   "id": "6b5b7388",
   "metadata": {},
   "source": [
    "## Multivariate Exploration"
   ]
  },
  {
   "cell_type": "markdown",
   "id": "4c40765c",
   "metadata": {},
   "source": [
    "In the multivariate exploration, I will try to see how the features (Smoking & Stroke) that shows some sort of relationship with Heart Dieseases varies across gender and BMI group "
   ]
  },
  {
   "cell_type": "code",
   "execution_count": 171,
   "id": "d92ebd3b",
   "metadata": {},
   "outputs": [],
   "source": [
    "df_1 = df.groupby(['Smoking','BMI group'])['HeartDisease'].value_counts(normalize=True).rename_axis(['Smoking','BMI group','HeartDisease']).reset_index(name='Proportion')\n",
    "\n",
    "df_1['Percentage'] = df_1['Proportion']*100\n",
    "\n",
    "df_1.drop(['Proportion'], axis = 1, inplace = True)"
   ]
  },
  {
   "cell_type": "code",
   "execution_count": 172,
   "id": "c74c5b0c",
   "metadata": {},
   "outputs": [
    {
     "data": {
      "image/png": "[encoded data removed]",
      "text/plain": [
       "<Figure size 881.65x288 with 4 Axes>"
      ]
     },
     "metadata": {
      "needs_background": "light"
     },
     "output_type": "display_data"
    }
   ],
   "source": [
    "g = sns.catplot(x='Smoking', y='Percentage', hue='HeartDisease', col='BMI group',\n",
    "                \n",
    "                data = df_1, kind='bar',\n",
    "                \n",
    "                height=4, aspect=.7)\n",
    "\n",
    "g.set(ylim=(0,100));"
   ]
  },
  {
   "cell_type": "markdown",
   "id": "d45175dd",
   "metadata": {},
   "source": [
    "Among the smokers, the healthy weight BMI group respondents had the lowest proportion of respondents with Heart Disease followed by Underweight, Overweight and Obesity. The same is observed in the non smokers group albeit small differences in the proportion"
   ]
  },
  {
   "cell_type": "code",
   "execution_count": 173,
   "id": "d5846ff5",
   "metadata": {},
   "outputs": [],
   "source": [
    "df_2 = df.groupby(['Smoking','Sex'])['HeartDisease'].value_counts(normalize=True).rename_axis(['Smoking','Sex','HeartDisease']).reset_index(name='Proportion')\n",
    "\n",
    "df_2['Percentage'] = df_2['Proportion']*100\n",
    "\n",
    "df_2.drop(['Proportion'], axis = 1, inplace = True)"
   ]
  },
  {
   "cell_type": "code",
   "execution_count": 174,
   "id": "14c9bd17",
   "metadata": {},
   "outputs": [
    {
     "data": {
      "image/png": "[encoded data removed]",
      "text/plain": [
       "<Figure size 478.45x288 with 2 Axes>"
      ]
     },
     "metadata": {
      "needs_background": "light"
     },
     "output_type": "display_data"
    }
   ],
   "source": [
    "g = sns.catplot(x=\"Smoking\", y = 'Percentage', hue=\"HeartDisease\", col=\"Sex\",\n",
    "                \n",
    "                data = df_2, kind=\"bar\",\n",
    "                \n",
    "                height=4, aspect=.7);\n",
    "\n",
    "\n",
    "g.set(ylim=(0,100));"
   ]
  },
  {
   "cell_type": "markdown",
   "id": "1600e9fa",
   "metadata": {},
   "source": [
    "Among the smokers, 9.4% of the female respondents and 14.6% of the male respondents have Heart Disease. In the non smokers category, 5.1% of the female respondents and 7.2% of the male respondents have Heart Disease."
   ]
  },
  {
   "cell_type": "code",
   "execution_count": 175,
   "id": "b68d0a19",
   "metadata": {},
   "outputs": [],
   "source": [
    "df_3 = df.groupby(['Stroke','BMI group'])['HeartDisease'].value_counts(normalize=True).rename_axis(['Stroke','BMI group','HeartDisease']).reset_index(name='Proportion')\n",
    "\n",
    "df_3['Percentage'] = df_3['Proportion']*100\n",
    "\n",
    "df_3.drop(['Proportion'], axis = 1, inplace = True)"
   ]
  },
  {
   "cell_type": "code",
   "execution_count": 176,
   "id": "1a8b98c9",
   "metadata": {},
   "outputs": [
    {
     "data": {
      "image/png": "[encoded data removed]",
      "text/plain": [
       "<Figure size 881.65x288 with 4 Axes>"
      ]
     },
     "metadata": {
      "needs_background": "light"
     },
     "output_type": "display_data"
    }
   ],
   "source": [
    "g = sns.catplot(x='Stroke', y = 'Percentage', hue='HeartDisease', col='BMI group',\n",
    "                \n",
    "                data = df_3, kind='bar',\n",
    "                \n",
    "                height=4, aspect=.7);\n",
    "\n",
    "\n",
    "g.set(ylim=(0,100));"
   ]
  },
  {
   "cell_type": "markdown",
   "id": "dfa8823f",
   "metadata": {},
   "source": [
    "Among the respondents with stroke, the healthy weight group respondents had the lowest proportion of respondents with Heart Disease followed by Overweight, Underweight, and Obesity.For the respondents not having stroke, the healthy weight BMI group had the lowest proportion of respondents with Heart Disease followed by Underweight, Overwright and Obesity"
   ]
  },
  {
   "cell_type": "code",
   "execution_count": 177,
   "id": "83a7b70f",
   "metadata": {},
   "outputs": [],
   "source": [
    "df_4 = df.groupby(['Stroke','Sex'])['HeartDisease'].value_counts(normalize=True).rename_axis(['Stroke','Sex','HeartDisease']).reset_index(name='Proportion')\n",
    "\n",
    "df_4['Percentage'] = df_4['Proportion']*100\n",
    "\n",
    "df_4.drop(['Proportion'], axis = 1, inplace = True)"
   ]
  },
  {
   "cell_type": "code",
   "execution_count": 178,
   "id": "ba6786ac",
   "metadata": {},
   "outputs": [
    {
     "data": {
      "image/png": "[encoded data removed]",
      "text/plain": [
       "<Figure size 478.45x288 with 2 Axes>"
      ]
     },
     "metadata": {
      "needs_background": "light"
     },
     "output_type": "display_data"
    }
   ],
   "source": [
    "g = sns.catplot(x='Stroke', y='Percentage', hue='HeartDisease', col='Sex',\n",
    "                \n",
    "                data = df_4, kind='bar',\n",
    "                \n",
    "                height=4, aspect=.7);\n",
    "\n",
    "\n",
    "g.set(ylim=(0,100));"
   ]
  },
  {
   "cell_type": "markdown",
   "id": "d0115abf",
   "metadata": {},
   "source": [
    "Among the respondents with stroke, 31.2% of  female respondents and  42.1% of male respondents have Heart Disease. In the category of respondents not having stroke, 5.7 % of female respondents and 9.1% of male respondents have Heart Disease."
   ]
  },
  {
   "cell_type": "markdown",
   "id": "2c57d9f9",
   "metadata": {},
   "source": [
    "### Talk about some of the relationships you observed in this part of the investigation. Were there features that strengthened each other in terms of looking at your feature(s) of interest?\n",
    "\n",
    "The smoking and stroke feature showed quite a relationship with Heart Disease where there are more respondents with Heart Disease among respondents who smokes compared to those who don't smoke and respondents who have stroke compared to those who don't have stroke\n",
    "\n",
    "### Were there any interesting or surprising interactions between features?\n",
    "\n",
    "The alcohol drinking feature even though showed similar distribution with that of the Heart Disease, it was suprising to see that there was not a significant difference in the proportion of those drink alcohol and those who don't in terms of the Heart disease observed in the two categories.\n"
   ]
  }
 ],
 "metadata": {
  "kernelspec": {
   "display_name": "Python 3 (ipykernel)",
   "language": "python",
   "name": "python3"
  },
  "language_info": {
   "codemirror_mode": {
    "name": "ipython",
    "version": 3
   },
   "file_extension": ".py",
   "mimetype": "text/x-python",
   "name": "python",
   "nbconvert_exporter": "python",
   "pygments_lexer": "ipython3",
   "version": "3.8.12"
  }
 },
 "nbformat": 4,
 "nbformat_minor": 5
}
