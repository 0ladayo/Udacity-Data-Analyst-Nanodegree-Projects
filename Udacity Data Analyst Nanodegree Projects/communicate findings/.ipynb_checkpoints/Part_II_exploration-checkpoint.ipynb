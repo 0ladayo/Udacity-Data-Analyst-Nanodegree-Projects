{
 "cells": [
  {
   "cell_type": "markdown",
   "id": "282afab1",
   "metadata": {},
   "source": [
    "# Distribution of Smoking and Non Smoking, Stroke and No Stroke as an indicator of Heart Disease across BMI group and Sex"
   ]
  },
  {
   "cell_type": "markdown",
   "id": "60c5261d",
   "metadata": {},
   "source": [
    "## Investigation Overview\n",
    "\n",
    "In my initial exploration, two features smoking and stroke stood out to be indicative of Heart Disease. In this investigation, I wanted to look at the distribution of Smoking and Non Smoking Category, Stroke and No Stroke Category as an indicator of Heart Disease across BMI group and Sex.\n",
    "\n",
    "## Dataset Overview\n",
    "\n",
    "The data consists of survey data of around 319,000 respondents (adult) related to their health status.\n",
    "\n",
    "The dataset has features such as whether respondents has heart disease, smokes, drink alcohols among others.\n",
    "\n",
    "The dataset can be found here https://www.kaggle.com/datasets/kamilpytlak/personal-key-indicators-of-heart-disease"
   ]
  },
  {
   "cell_type": "code",
   "execution_count": 1,
   "id": "a9056a53",
   "metadata": {},
   "outputs": [],
   "source": [
    "# import all packages and set plots to be embedded inline\n",
    "import numpy as np\n",
    "\n",
    "import pandas as pd\n",
    "\n",
    "import matplotlib.pyplot as plt\n",
    "\n",
    "import seaborn as sb\n",
    "\n",
    "import seaborn as sns\n",
    "\n",
    "%matplotlib inline\n",
    "\n",
    "# suppress warnings from final output\n",
    "import warnings\n",
    "warnings.simplefilter(\"ignore\")"
   ]
  },
  {
   "cell_type": "code",
   "execution_count": 3,
   "id": "037f2ce5",
   "metadata": {},
   "outputs": [],
   "source": [
    "# load in the dataset into a pandas dataframe\n",
    "\n",
    "df = pd.read_csv('heart_2020_cleaned.csv')"
   ]
  },
  {
   "cell_type": "code",
   "execution_count": null,
   "id": "e5f84a48",
   "metadata": {},
   "outputs": [],
   "source": []
  }
 ],
 "metadata": {
  "kernelspec": {
   "display_name": "Python 3 (ipykernel)",
   "language": "python",
   "name": "python3"
  },
  "language_info": {
   "codemirror_mode": {
    "name": "ipython",
    "version": 3
   },
   "file_extension": ".py",
   "mimetype": "text/x-python",
   "name": "python",
   "nbconvert_exporter": "python",
   "pygments_lexer": "ipython3",
   "version": "3.8.12"
  }
 },
 "nbformat": 4,
 "nbformat_minor": 5
}
