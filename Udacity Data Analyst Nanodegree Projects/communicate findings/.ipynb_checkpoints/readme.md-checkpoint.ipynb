{
 "cells": [
  {
   "cell_type": "markdown",
   "id": "9bb37312",
   "metadata": {},
   "source": [
    "# Diamonds Data Exploration\n",
    "\n",
    "## Dataset\n",
    "\n",
    "The data consists of information regarding 54,000 round-cut diamonds, including\n",
    "price, carat, and other diamond qualities. The dataset can be found in the\n",
    "repository for R's ggplot2 library [here](https://github.com/tidyverse/ggplot2/blob/master/data-raw/diamonds.csv),\n",
    "with feature documentation available [here](http://ggplot2.tidyverse.org/reference/diamonds.html).\n",
    "\n",
    "\n",
    "## Summary of Findings\n",
    "\n",
    "In the exploration, I found that there was a strong relationship between the\n",
    "price of a diamond and its carat weight, with modifying effects from the cut,\n",
    "color, and clarity grades given to the diamond. The relationship is\n",
    "approximately linear between price and carat when price is transformed to be on\n",
    "a logarithmic scale and carat transformed to be on a cube-root scale. I found a\n",
    "somewhat surprising result initially when the marginal trend for the cut, color,\n",
    "and clarity variables indicated that higher diamond quality was associated with\n",
    "lower price. However, higher diamond quality was also associated with smaller\n",
    "diamonds. When I isolated diamonds of a single carat weight, there was a clear\n",
    "positive relationship between higher diamond quality and higher diamond price.\n",
    "\n",
    "Outside of the main variables of interest, I verified the relationship between\n",
    "diamond carat weight and its x, y, and z dimensions. For the dataset given,\n",
    "there was an interesting interaction in the categorical diamond quality\n",
    "features. The lower clarity grades looked like they had slightly better\n",
    "distribution of cut and color grades than diamonds with the higher clarity\n",
    "grades.\n",
    "\n",
    "\n",
    "## Key Insights for Presentation\n",
    "\n",
    "For the presentation, I focus on just the influence of the four Cs of diamonds\n",
    "and leave out most of the intermediate derivations. I start by introducing the\n",
    "price variable, followed by the pattern in carat distribution, then plot the\n",
    "transformed scatterplot.\n",
    "\n",
    "Afterwards, I introduce each of the categorical variables one by one. To start,\n",
    "I use the violin plots of price and carat across clarity. I'm only looking at\n",
    "the clarity grade plot here since it's the clearest example of how the\n",
    "categorical quality grades affect diamond pricing. The other two categorical\n",
    "variables, cut and color, are covered afterwards, using point plots. I've made\n",
    "sure to use different color palettes for each quality variable to make sure it\n",
    "is clear that they're different between plots.\n"
   ]
  }
 ],
 "metadata": {
  "kernelspec": {
   "display_name": "Python 3 (ipykernel)",
   "language": "python",
   "name": "python3"
  },
  "language_info": {
   "codemirror_mode": {
    "name": "ipython",
    "version": 3
   },
   "file_extension": ".py",
   "mimetype": "text/x-python",
   "name": "python",
   "nbconvert_exporter": "python",
   "pygments_lexer": "ipython3",
   "version": "3.8.12"
  }
 },
 "nbformat": 4,
 "nbformat_minor": 5
}
